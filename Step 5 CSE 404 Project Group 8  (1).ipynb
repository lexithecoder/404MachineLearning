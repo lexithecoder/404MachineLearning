{
 "cells": [
  {
   "cell_type": "code",
   "execution_count": 1,
   "metadata": {},
   "outputs": [],
   "source": [
    "import pandas as pd\n",
    "import numpy as np\n",
    "import matplotlib.pyplot as plt\n",
    "from sklearn import metrics\n",
    "from sklearn.model_selection import train_test_split\n",
    "from sklearn import tree\n",
    "from sklearn.metrics import accuracy_score\n",
    "from sklearn.svm import SVC\n",
    "from sklearn import preprocessing\n",
    "from sklearn.model_selection import GridSearchCV\n",
    "from sklearn.metrics import classification_report\n",
    "from sklearn.metrics import confusion_matrix\n",
    "from sklearn.decomposition import PCA"
   ]
  },
  {
   "cell_type": "code",
   "execution_count": 2,
   "metadata": {},
   "outputs": [],
   "source": [
    "white = pd.read_csv('winequality-white.csv',sep = ';')\n",
    "red = pd.read_csv('winequality-red.csv',sep = ';')"
   ]
  },
  {
   "cell_type": "code",
   "execution_count": 3,
   "metadata": {},
   "outputs": [],
   "source": [
    "color_w = ['w']* len(white)\n",
    "white['color'] = color_w\n",
    "\n",
    "color_r = ['r']* len(red)\n",
    "red['color'] = color_r"
   ]
  },
  {
   "cell_type": "code",
   "execution_count": 4,
   "metadata": {},
   "outputs": [
    {
     "data": {
      "text/html": [
       "<div>\n",
       "<style scoped>\n",
       "    .dataframe tbody tr th:only-of-type {\n",
       "        vertical-align: middle;\n",
       "    }\n",
       "\n",
       "    .dataframe tbody tr th {\n",
       "        vertical-align: top;\n",
       "    }\n",
       "\n",
       "    .dataframe thead th {\n",
       "        text-align: right;\n",
       "    }\n",
       "</style>\n",
       "<table border=\"1\" class=\"dataframe\">\n",
       "  <thead>\n",
       "    <tr style=\"text-align: right;\">\n",
       "      <th></th>\n",
       "      <th>fixed acidity</th>\n",
       "      <th>volatile acidity</th>\n",
       "      <th>citric acid</th>\n",
       "      <th>residual sugar</th>\n",
       "      <th>chlorides</th>\n",
       "      <th>free sulfur dioxide</th>\n",
       "      <th>total sulfur dioxide</th>\n",
       "      <th>density</th>\n",
       "      <th>pH</th>\n",
       "      <th>sulphates</th>\n",
       "      <th>alcohol</th>\n",
       "      <th>quality</th>\n",
       "      <th>color</th>\n",
       "    </tr>\n",
       "  </thead>\n",
       "  <tbody>\n",
       "    <tr>\n",
       "      <th>0</th>\n",
       "      <td>7.0</td>\n",
       "      <td>0.27</td>\n",
       "      <td>0.36</td>\n",
       "      <td>20.7</td>\n",
       "      <td>0.045</td>\n",
       "      <td>45.0</td>\n",
       "      <td>170.0</td>\n",
       "      <td>1.0010</td>\n",
       "      <td>3.00</td>\n",
       "      <td>0.45</td>\n",
       "      <td>8.8</td>\n",
       "      <td>6</td>\n",
       "      <td>w</td>\n",
       "    </tr>\n",
       "    <tr>\n",
       "      <th>1</th>\n",
       "      <td>6.3</td>\n",
       "      <td>0.30</td>\n",
       "      <td>0.34</td>\n",
       "      <td>1.6</td>\n",
       "      <td>0.049</td>\n",
       "      <td>14.0</td>\n",
       "      <td>132.0</td>\n",
       "      <td>0.9940</td>\n",
       "      <td>3.30</td>\n",
       "      <td>0.49</td>\n",
       "      <td>9.5</td>\n",
       "      <td>6</td>\n",
       "      <td>w</td>\n",
       "    </tr>\n",
       "    <tr>\n",
       "      <th>2</th>\n",
       "      <td>8.1</td>\n",
       "      <td>0.28</td>\n",
       "      <td>0.40</td>\n",
       "      <td>6.9</td>\n",
       "      <td>0.050</td>\n",
       "      <td>30.0</td>\n",
       "      <td>97.0</td>\n",
       "      <td>0.9951</td>\n",
       "      <td>3.26</td>\n",
       "      <td>0.44</td>\n",
       "      <td>10.1</td>\n",
       "      <td>6</td>\n",
       "      <td>w</td>\n",
       "    </tr>\n",
       "    <tr>\n",
       "      <th>3</th>\n",
       "      <td>7.2</td>\n",
       "      <td>0.23</td>\n",
       "      <td>0.32</td>\n",
       "      <td>8.5</td>\n",
       "      <td>0.058</td>\n",
       "      <td>47.0</td>\n",
       "      <td>186.0</td>\n",
       "      <td>0.9956</td>\n",
       "      <td>3.19</td>\n",
       "      <td>0.40</td>\n",
       "      <td>9.9</td>\n",
       "      <td>6</td>\n",
       "      <td>w</td>\n",
       "    </tr>\n",
       "    <tr>\n",
       "      <th>4</th>\n",
       "      <td>7.2</td>\n",
       "      <td>0.23</td>\n",
       "      <td>0.32</td>\n",
       "      <td>8.5</td>\n",
       "      <td>0.058</td>\n",
       "      <td>47.0</td>\n",
       "      <td>186.0</td>\n",
       "      <td>0.9956</td>\n",
       "      <td>3.19</td>\n",
       "      <td>0.40</td>\n",
       "      <td>9.9</td>\n",
       "      <td>6</td>\n",
       "      <td>w</td>\n",
       "    </tr>\n",
       "  </tbody>\n",
       "</table>\n",
       "</div>"
      ],
      "text/plain": [
       "   fixed acidity  volatile acidity  citric acid  residual sugar  chlorides  \\\n",
       "0            7.0              0.27         0.36            20.7      0.045   \n",
       "1            6.3              0.30         0.34             1.6      0.049   \n",
       "2            8.1              0.28         0.40             6.9      0.050   \n",
       "3            7.2              0.23         0.32             8.5      0.058   \n",
       "4            7.2              0.23         0.32             8.5      0.058   \n",
       "\n",
       "   free sulfur dioxide  total sulfur dioxide  density    pH  sulphates  \\\n",
       "0                 45.0                 170.0   1.0010  3.00       0.45   \n",
       "1                 14.0                 132.0   0.9940  3.30       0.49   \n",
       "2                 30.0                  97.0   0.9951  3.26       0.44   \n",
       "3                 47.0                 186.0   0.9956  3.19       0.40   \n",
       "4                 47.0                 186.0   0.9956  3.19       0.40   \n",
       "\n",
       "   alcohol  quality color  \n",
       "0      8.8        6     w  \n",
       "1      9.5        6     w  \n",
       "2     10.1        6     w  \n",
       "3      9.9        6     w  \n",
       "4      9.9        6     w  "
      ]
     },
     "execution_count": 4,
     "metadata": {},
     "output_type": "execute_result"
    }
   ],
   "source": [
    "red.head()\n",
    "white.head()"
   ]
  },
  {
   "cell_type": "code",
   "execution_count": 5,
   "metadata": {},
   "outputs": [],
   "source": [
    "wine = pd.concat([white, red], ignore_index=True, sort=False)"
   ]
  },
  {
   "cell_type": "code",
   "execution_count": 6,
   "metadata": {},
   "outputs": [
    {
     "data": {
      "text/html": [
       "<div>\n",
       "<style scoped>\n",
       "    .dataframe tbody tr th:only-of-type {\n",
       "        vertical-align: middle;\n",
       "    }\n",
       "\n",
       "    .dataframe tbody tr th {\n",
       "        vertical-align: top;\n",
       "    }\n",
       "\n",
       "    .dataframe thead th {\n",
       "        text-align: right;\n",
       "    }\n",
       "</style>\n",
       "<table border=\"1\" class=\"dataframe\">\n",
       "  <thead>\n",
       "    <tr style=\"text-align: right;\">\n",
       "      <th></th>\n",
       "      <th>fixed acidity</th>\n",
       "      <th>volatile acidity</th>\n",
       "      <th>citric acid</th>\n",
       "      <th>residual sugar</th>\n",
       "      <th>chlorides</th>\n",
       "      <th>free sulfur dioxide</th>\n",
       "      <th>total sulfur dioxide</th>\n",
       "      <th>density</th>\n",
       "      <th>pH</th>\n",
       "      <th>sulphates</th>\n",
       "      <th>alcohol</th>\n",
       "      <th>quality</th>\n",
       "      <th>color</th>\n",
       "    </tr>\n",
       "  </thead>\n",
       "  <tbody>\n",
       "    <tr>\n",
       "      <th>6492</th>\n",
       "      <td>6.2</td>\n",
       "      <td>0.600</td>\n",
       "      <td>0.08</td>\n",
       "      <td>2.0</td>\n",
       "      <td>0.090</td>\n",
       "      <td>32.0</td>\n",
       "      <td>44.0</td>\n",
       "      <td>0.99490</td>\n",
       "      <td>3.45</td>\n",
       "      <td>0.58</td>\n",
       "      <td>10.5</td>\n",
       "      <td>5</td>\n",
       "      <td>r</td>\n",
       "    </tr>\n",
       "    <tr>\n",
       "      <th>6493</th>\n",
       "      <td>5.9</td>\n",
       "      <td>0.550</td>\n",
       "      <td>0.10</td>\n",
       "      <td>2.2</td>\n",
       "      <td>0.062</td>\n",
       "      <td>39.0</td>\n",
       "      <td>51.0</td>\n",
       "      <td>0.99512</td>\n",
       "      <td>3.52</td>\n",
       "      <td>0.76</td>\n",
       "      <td>11.2</td>\n",
       "      <td>6</td>\n",
       "      <td>r</td>\n",
       "    </tr>\n",
       "    <tr>\n",
       "      <th>6494</th>\n",
       "      <td>6.3</td>\n",
       "      <td>0.510</td>\n",
       "      <td>0.13</td>\n",
       "      <td>2.3</td>\n",
       "      <td>0.076</td>\n",
       "      <td>29.0</td>\n",
       "      <td>40.0</td>\n",
       "      <td>0.99574</td>\n",
       "      <td>3.42</td>\n",
       "      <td>0.75</td>\n",
       "      <td>11.0</td>\n",
       "      <td>6</td>\n",
       "      <td>r</td>\n",
       "    </tr>\n",
       "    <tr>\n",
       "      <th>6495</th>\n",
       "      <td>5.9</td>\n",
       "      <td>0.645</td>\n",
       "      <td>0.12</td>\n",
       "      <td>2.0</td>\n",
       "      <td>0.075</td>\n",
       "      <td>32.0</td>\n",
       "      <td>44.0</td>\n",
       "      <td>0.99547</td>\n",
       "      <td>3.57</td>\n",
       "      <td>0.71</td>\n",
       "      <td>10.2</td>\n",
       "      <td>5</td>\n",
       "      <td>r</td>\n",
       "    </tr>\n",
       "    <tr>\n",
       "      <th>6496</th>\n",
       "      <td>6.0</td>\n",
       "      <td>0.310</td>\n",
       "      <td>0.47</td>\n",
       "      <td>3.6</td>\n",
       "      <td>0.067</td>\n",
       "      <td>18.0</td>\n",
       "      <td>42.0</td>\n",
       "      <td>0.99549</td>\n",
       "      <td>3.39</td>\n",
       "      <td>0.66</td>\n",
       "      <td>11.0</td>\n",
       "      <td>6</td>\n",
       "      <td>r</td>\n",
       "    </tr>\n",
       "  </tbody>\n",
       "</table>\n",
       "</div>"
      ],
      "text/plain": [
       "      fixed acidity  volatile acidity  citric acid  residual sugar  chlorides  \\\n",
       "6492            6.2             0.600         0.08             2.0      0.090   \n",
       "6493            5.9             0.550         0.10             2.2      0.062   \n",
       "6494            6.3             0.510         0.13             2.3      0.076   \n",
       "6495            5.9             0.645         0.12             2.0      0.075   \n",
       "6496            6.0             0.310         0.47             3.6      0.067   \n",
       "\n",
       "      free sulfur dioxide  total sulfur dioxide  density    pH  sulphates  \\\n",
       "6492                 32.0                  44.0  0.99490  3.45       0.58   \n",
       "6493                 39.0                  51.0  0.99512  3.52       0.76   \n",
       "6494                 29.0                  40.0  0.99574  3.42       0.75   \n",
       "6495                 32.0                  44.0  0.99547  3.57       0.71   \n",
       "6496                 18.0                  42.0  0.99549  3.39       0.66   \n",
       "\n",
       "      alcohol  quality color  \n",
       "6492     10.5        5     r  \n",
       "6493     11.2        6     r  \n",
       "6494     11.0        6     r  \n",
       "6495     10.2        5     r  \n",
       "6496     11.0        6     r  "
      ]
     },
     "execution_count": 6,
     "metadata": {},
     "output_type": "execute_result"
    }
   ],
   "source": [
    "wine.head()\n",
    "wine.tail()"
   ]
  },
  {
   "cell_type": "markdown",
   "metadata": {},
   "source": [
    "# Step 5 #\n",
    "\n",
    "This step is giving you another chance to obtain reasonable results if you do not have it yet and try to extend the number of models and techniques that you have used.   \n",
    "You can use machine learning or deep learning tools (scikitlearn/PyTorch) or use your own implemented algorithm (for example build on your previous programming assignments and extend on those), in any case, you will need to do the following:\n",
    "\n",
    "1. Make a eval/test/train split of the data\n",
    "\n",
    "2. Use multiple machine learning models to learn from your training set, let's say at least one model per team member. \n",
    "\n",
    "3. Evaluate the models with the test set.\n",
    "\n",
    "4. Print a report summary about the models' performance on both train, eval and test datasets. You can add all these in your Github that you have shared with us and add a ReadMe file to include the output report os your code."
   ]
  },
  {
   "cell_type": "code",
   "execution_count": 7,
   "metadata": {},
   "outputs": [],
   "source": [
    "Y1 = wine['color']\n",
    "Y2 = wine['quality']\n",
    "X = wine.drop(['color','quality'], axis = 1) #extract the predictor and target variables \n",
    "\n",
    "# train one model to learn to classify the color\n",
    "X1_train, X1_test, Y1_train, Y1_test = train_test_split(X,Y1,test_size = 0.8, random_state=1)\n",
    "\n",
    "# second model to classify the quality\n",
    "X2_train, X2_test, Y2_train, Y2_test = train_test_split(X,Y2,test_size = 0.8, random_state=1)\n"
   ]
  },
  {
   "cell_type": "markdown",
   "metadata": {},
   "source": [
    "# Initial SVM Model"
   ]
  },
  {
   "cell_type": "code",
   "execution_count": 8,
   "metadata": {},
   "outputs": [
    {
     "name": "stdout",
     "output_type": "stream",
     "text": [
      "\n",
      "Train Accuracy: 43.80%\n",
      "Test Accuracy: 43.63%\n"
     ]
    }
   ],
   "source": [
    "# classify the quality of wine (0-10)\n",
    "\n",
    "cls2 = SVC().fit(X2_train, Y2_train)\n",
    "accuracy_train = accuracy_score(Y2_train, cls2.predict(X2_train))\n",
    "accuracy_test = accuracy_score(Y2_test, cls2.predict(X2_test))\n",
    "print('\\nTrain Accuracy:{: .2f}%'.format(accuracy_train*100))\n",
    "print('Test Accuracy:{: .2f}%'.format(accuracy_test*100))"
   ]
  },
  {
   "cell_type": "markdown",
   "metadata": {},
   "source": [
    "# Confusion Matrix "
   ]
  },
  {
   "cell_type": "code",
   "execution_count": 9,
   "metadata": {},
   "outputs": [
    {
     "name": "stdout",
     "output_type": "stream",
     "text": [
      "Confusion Matrix for predicting wine quality:\n"
     ]
    },
    {
     "data": {
      "text/plain": [
       "array([[   0,    0,    0,   20,    0,    0,    0],\n",
       "       [   0,    0,    0,  170,    0,    0,    0],\n",
       "       [   0,    0,    0, 1700,    0,    0,    0],\n",
       "       [   0,    0,    0, 2268,    0,    0,    0],\n",
       "       [   0,    0,    0,  889,    0,    0,    0],\n",
       "       [   0,    0,    0,  146,    0,    0,    0],\n",
       "       [   0,    0,    0,    5,    0,    0,    0]])"
      ]
     },
     "execution_count": 9,
     "metadata": {},
     "output_type": "execute_result"
    }
   ],
   "source": [
    "confusion_matrix2 = metrics.confusion_matrix(Y2_test, cls2.predict(X2_test))\n",
    "print(\"Confusion Matrix for predicting wine quality:\")\n",
    "confusion_matrix2"
   ]
  },
  {
   "cell_type": "markdown",
   "metadata": {},
   "source": [
    "# Initial Decision Tree"
   ]
  },
  {
   "cell_type": "code",
   "execution_count": 10,
   "metadata": {},
   "outputs": [
    {
     "data": {
      "text/plain": [
       "0.4697960754136206"
      ]
     },
     "execution_count": 10,
     "metadata": {},
     "output_type": "execute_result"
    }
   ],
   "source": [
    "from sklearn.tree import DecisionTreeClassifier\n",
    "\n",
    "clf2 = DecisionTreeClassifier(random_state=0)\n",
    "clf2.fit(X2_train, Y2_train)\n",
    "\n",
    "clf2.score(X2_test, Y2_test)\n"
   ]
  },
  {
   "cell_type": "markdown",
   "metadata": {},
   "source": [
    "# Initial Random Forest Classifier"
   ]
  },
  {
   "cell_type": "code",
   "execution_count": 11,
   "metadata": {},
   "outputs": [
    {
     "data": {
      "text/plain": [
       "0.5748364755675259"
      ]
     },
     "execution_count": 11,
     "metadata": {},
     "output_type": "execute_result"
    }
   ],
   "source": [
    "from sklearn.ensemble import RandomForestClassifier\n",
    "\n",
    "clf_forest2 = RandomForestClassifier(max_depth=10, random_state=0)\n",
    "clf_forest2.fit(X2_train, Y2_train)\n",
    "\n",
    "clf_forest2.score(X2_test, Y2_test)\n"
   ]
  },
  {
   "cell_type": "markdown",
   "metadata": {},
   "source": [
    "These three initial models (SVM, Desicion Trees, Random Forest) gave us a best accuracy score of 57.48% from the Random Forest, the reason why these models are not good at classifying wine quality is possibly due to the fact that there is a much higher sample of wines that are classified with a quality 5,6,7. This leads to the models overfitting on the training data and not being able to accuratly classify the test data. "
   ]
  },
  {
   "cell_type": "code",
   "execution_count": 12,
   "metadata": {},
   "outputs": [
    {
     "name": "stdout",
     "output_type": "stream",
     "text": [
      "Total: 6497\n",
      "quality 1 : 0\n",
      "quality 2 : 0\n",
      "quality 3 : 30\n",
      "quality 4 : 216\n",
      "quality 5 : 2138\n",
      "quality 6 : 2836\n",
      "quality 7 : 1079\n",
      "quality 8 : 193\n",
      "quality 9 : 5\n",
      "quality 10 : 0\n"
     ]
    },
    {
     "data": {
      "image/png": "[encoded data removed]",
      "text/plain": [
       "<Figure size 432x288 with 1 Axes>"
      ]
     },
     "metadata": {
      "needs_background": "light"
     },
     "output_type": "display_data"
    }
   ],
   "source": [
    "print(\"Total:\",len(wine))\n",
    "\n",
    "for i in range(1,11):  \n",
    "    print(\"quality\",i,\":\",len(wine[wine[\"quality\"] == i]))\n",
    "    \n",
    "plt.hist(wine[\"quality\"], range = (0,10), align = 'left', rwidth=0.7, color = \"white\" ,ec = \"black\")\n",
    "plt.title(\"Wine Quality\")\n",
    "plt.xlabel(\"Quality\")\n",
    "plt.ylabel(\"Count\")\n",
    "plt.xticks(range(10))\n",
    "plt.show()"
   ]
  },
  {
   "cell_type": "markdown",
   "metadata": {},
   "source": [
    "# Upsampling\n",
    "\n",
    "Upsampling will allow us to create artificial or duplicate data points to balance the class label for the wine qualities that are under represented in the training data. We used the quality of 6 as our resampling class to add artificial points to wine qualities 3,4,5,7,8,9. Then we remade our training and testing split data and used that to train our Random Forest Classification. However, this lead to a lower testing accuracy of 29.22%, this could be due to the classifier now underfitting the training data and not capturing that most of the wine fell into the quality of 6."
   ]
  },
  {
   "cell_type": "code",
   "execution_count": 13,
   "metadata": {},
   "outputs": [],
   "source": [
    "from sklearn.utils import resample\n",
    "\n",
    "up_wine = resample(wine[wine[\"quality\"] == 6],\n",
    "             replace=True,\n",
    "             n_samples=500,\n",
    "             random_state=42)\n",
    "for quality in [3, 4, 5, 7, 8, 9]:\n",
    "    upsample = resample(wine[wine[\"quality\"] == quality],\n",
    "             replace=True,\n",
    "             n_samples=500,\n",
    "             random_state=42)\n",
    "    up_wine = pd.concat([up_wine, upsample], ignore_index=True, sort=False)\n",
    "\n",
    "Y1_up = up_wine['color']\n",
    "Y2_up = up_wine['quality']\n",
    "X_up = up_wine.drop(['color','quality'], axis = 1) #extract the predictor and target variables \n",
    "\n",
    "# train one model to learn to classify the color\n",
    "X1_train_up, X1_test_up, Y1_train_up, Y1_test_up = train_test_split(X_up,Y1_up,test_size = 0.8, random_state=1)\n",
    "\n",
    "# second model to classify the quality\n",
    "X2_train_up, X2_test_up, Y2_train_up, Y2_test_up = train_test_split(X_up,Y2_up,test_size = 0.8, random_state=1)\n"
   ]
  },
  {
   "cell_type": "code",
   "execution_count": 14,
   "metadata": {},
   "outputs": [
    {
     "name": "stdout",
     "output_type": "stream",
     "text": [
      "0.4878571428571429\n",
      "0.29222777991535204\n"
     ]
    }
   ],
   "source": [
    "clf_forest2_up = RandomForestClassifier(max_depth=3, random_state=0)\n",
    "clf_forest2_up.fit(X2_train_up, Y2_train_up)\n",
    "\n",
    "print(clf_forest2_up.score(X2_test_up, Y2_test_up))\n",
    "print(clf_forest2_up.score(X2_test, Y2_test))\n"
   ]
  },
  {
   "cell_type": "markdown",
   "metadata": {},
   "source": [
    "# Using SMOTE with Random Forests\n",
    "\n",
    "SMOTE (Synthetic Minority Oversampling Technique) helps us increase the number of cases in our dataset in a balanced way. This works by generating new instances from existing under represented class cases that we supply as inputs. This is another method for balancing our dataset so that our classifier does not over train on the samples with the quality being 6. After resplitting our data with this technique, the Random Forest Classifier was able to acheive a testing accuracy of 62.60% which is higher than the testing accuracy when using upsampling. "
   ]
  },
  {
   "cell_type": "code",
   "execution_count": 15,
   "metadata": {},
   "outputs": [
    {
     "name": "stdout",
     "output_type": "stream",
     "text": [
      "0.7830248079586953\n",
      "0.6260100038476337\n"
     ]
    }
   ],
   "source": [
    "from imblearn.over_sampling import SMOTE\n",
    "sm = SMOTE(random_state=42,k_neighbors = 3)\n",
    "X_res, y_res = sm.fit_resample(X, Y2)\n",
    "X2_train_res, X2_test_res, Y2_train_res, Y2_test_res = train_test_split(X_res,y_res,test_size = 0.8, random_state=1)\n",
    "\n",
    "clf_forest2_res = RandomForestClassifier(max_depth=15, random_state=0)\n",
    "clf_forest2_res.fit(X2_train_res, Y2_train_res)\n",
    "\n",
    "print(clf_forest2_res.score(X2_test_res, Y2_test_res))\n",
    "print(clf_forest2_res.score(X2_test, Y2_test))\n"
   ]
  },
  {
   "cell_type": "markdown",
   "metadata": {},
   "source": [
    "# PCA with SVM and SMOTE"
   ]
  },
  {
   "cell_type": "code",
   "execution_count": 16,
   "metadata": {},
   "outputs": [
    {
     "data": {
      "text/plain": [
       "mid     8508\n",
       "high    5672\n",
       "low     5672\n",
       "Name: quality, dtype: int64"
      ]
     },
     "execution_count": 16,
     "metadata": {},
     "output_type": "execute_result"
    }
   ],
   "source": [
    "PCA_Y = y_res.replace({3 : \"low\", 4 : \"low\", 5 : \"mid\", 6 : \"mid\", 7 : \"mid\", 8 : \"high\", 9 : \"high\"})\n",
    "PCA_Y.value_counts()"
   ]
  },
  {
   "cell_type": "code",
   "execution_count": 17,
   "metadata": {},
   "outputs": [],
   "source": [
    "min_max_scaler = preprocessing.MinMaxScaler()\n",
    "features_norm = pd.DataFrame(min_max_scaler.fit_transform(X_res), columns=X_res.columns, index=X_res.index)\n",
    "train_vectors, test_vectors, train_labels,test_labels = train_test_split(features_norm, PCA_Y,\n",
    "                               random_state = 3077)"
   ]
  },
  {
   "cell_type": "code",
   "execution_count": 18,
   "metadata": {},
   "outputs": [
    {
     "name": "stdout",
     "output_type": "stream",
     "text": [
      "              precision    recall  f1-score   support\n",
      "\n",
      "        high       0.58      0.68      0.63      1413\n",
      "         low       0.00      0.00      0.00      1419\n",
      "         mid       0.48      0.75      0.59      2131\n",
      "\n",
      "    accuracy                           0.51      4963\n",
      "   macro avg       0.35      0.48      0.40      4963\n",
      "weighted avg       0.37      0.51      0.43      4963\n",
      "\n",
      "[[ 956    0  457]\n",
      " [ 153    0 1266]\n",
      " [ 534    0 1597]]\n"
     ]
    },
    {
     "name": "stderr",
     "output_type": "stream",
     "text": [
      "/Users/bryanjurado/opt/anaconda3/lib/python3.8/site-packages/sklearn/metrics/_classification.py:1344: UndefinedMetricWarning: Precision and F-score are ill-defined and being set to 0.0 in labels with no predicted samples. Use `zero_division` parameter to control this behavior.\n",
      "  _warn_prf(average, modifier, msg_start, len(result))\n",
      "/Users/bryanjurado/opt/anaconda3/lib/python3.8/site-packages/sklearn/metrics/_classification.py:1344: UndefinedMetricWarning: Precision and F-score are ill-defined and being set to 0.0 in labels with no predicted samples. Use `zero_division` parameter to control this behavior.\n",
      "  _warn_prf(average, modifier, msg_start, len(result))\n",
      "/Users/bryanjurado/opt/anaconda3/lib/python3.8/site-packages/sklearn/metrics/_classification.py:1344: UndefinedMetricWarning: Precision and F-score are ill-defined and being set to 0.0 in labels with no predicted samples. Use `zero_division` parameter to control this behavior.\n",
      "  _warn_prf(average, modifier, msg_start, len(result))\n"
     ]
    }
   ],
   "source": [
    "n_components = 1\n",
    "\n",
    "pca = PCA(n_components= n_components, whiten=True)\n",
    "\n",
    "_ = pca.fit(train_vectors)\n",
    "\n",
    "pca_train_vectors = pca.transform(train_vectors)\n",
    "pca_test_vectors = pca.transform(test_vectors)\n",
    "total_variance = np.sum(pca.explained_variance_ratio_)\n",
    "param_grid = {'C' : [1],\n",
    "                'gamma': [1e-06],\n",
    "                'kernel': ['linear']}\n",
    "clf = GridSearchCV(SVC(), param_grid, cv = 5, n_jobs = -1)\n",
    "clf = clf.fit(pca_train_vectors, train_labels)\n",
    "pred_labels = clf.predict(pca_test_vectors)\n",
    "acc_score = accuracy_score(test_labels, pred_labels)\n",
    "print(classification_report(test_labels, pred_labels))\n",
    "print(confusion_matrix(test_labels, pred_labels))"
   ]
  },
  {
   "cell_type": "code",
   "execution_count": 19,
   "metadata": {},
   "outputs": [
    {
     "data": {
      "text/plain": [
       "<AxesSubplot:>"
      ]
     },
     "execution_count": 19,
     "metadata": {},
     "output_type": "execute_result"
    },
    {
     "data": {
      "image/png": "[encoded data removed]",
      "text/plain": [
       "<Figure size 360x360 with 1 Axes>"
      ]
     },
     "metadata": {
      "needs_background": "light"
     },
     "output_type": "display_data"
    }
   ],
   "source": [
    "pcs = (pca.components_[0]).tolist()\n",
    "feat_importances = pd.Series(pcs, index=X_res.columns)\n",
    "feat_importances.nlargest(25).plot(kind='barh',figsize=(5,5))"
   ]
  },
  {
   "cell_type": "code",
   "execution_count": 20,
   "metadata": {},
   "outputs": [],
   "source": [
    "def PCA_feature_finder(x):\n",
    "    n_components = x\n",
    "\n",
    "    pca = PCA(n_components= n_components, whiten=True)\n",
    "\n",
    "    _ = pca.fit(train_vectors)\n",
    "\n",
    "    pca_train_vectors = pca.transform(train_vectors)\n",
    "    pca_test_vectors = pca.transform(test_vectors)\n",
    "    total_variance = np.sum(pca.explained_variance_ratio_)\n",
    "    param_grid = {'C' : [1],\n",
    "                  'gamma': [1e-6],\n",
    "                  'kernel': ['linear']}\n",
    "    clf = GridSearchCV(SVC(), param_grid, cv = 5, n_jobs = -1)\n",
    "    clf = clf.fit(pca_train_vectors, train_labels)\n",
    "    pred_labels = clf.predict(pca_test_vectors)\n",
    "    acc_score = accuracy_score(test_labels, pred_labels)\n",
    "    return acc_score, total_variance"
   ]
  },
  {
   "cell_type": "code",
   "execution_count": null,
   "metadata": {},
   "outputs": [],
   "source": [
    "accuracy_scores = []\n",
    "for x in range(1,12):\n",
    "    accuracy_scores.append(PCA_feature_finder(x)[0])\n",
    "dpi = 108  \n",
    "plt.rcParams['figure.dpi'] = dpi\n",
    "plt.figure(figsize = (8,4))\n",
    "plt.plot(range(1,12), accuracy_scores)\n",
    "plt.scatter(range(1,12), accuracy_scores, color = 'orange')\n",
    "plt.xlabel('number of components')\n",
    "plt.ylabel('accuracy score')"
   ]
  },
  {
   "cell_type": "markdown",
   "metadata": {},
   "source": [
    "# PCA with Random Forest and SMOTE"
   ]
  },
  {
   "cell_type": "code",
   "execution_count": null,
   "metadata": {},
   "outputs": [],
   "source": [
    "PCA_Y = y_res.replace({3 : \"low\", 4 : \"low\", 5 : \"mid\", 6 : \"mid\", 7 : \"mid\", 8 : \"high\", 9 : \"high\"})\n",
    "PCA_Y.value_counts()"
   ]
  },
  {
   "cell_type": "code",
   "execution_count": null,
   "metadata": {},
   "outputs": [],
   "source": [
    "min_max_scaler = preprocessing.MinMaxScaler()\n",
    "features_norm = pd.DataFrame(min_max_scaler.fit_transform(X_res), columns=X_res.columns, index=X_res.index)\n",
    "train_vectors, test_vectors, train_labels,test_labels = train_test_split(features_norm, PCA_Y,\n",
    "                               random_state = 3077)"
   ]
  },
  {
   "cell_type": "code",
   "execution_count": null,
   "metadata": {},
   "outputs": [],
   "source": [
    "pcs = (pca.components_[0]).tolist()\n",
    "feat_importances = pd.Series(pcs, index=X_res.columns)\n",
    "feat_importances.nlargest(25).plot(kind='barh',figsize=(5,5))"
   ]
  },
  {
   "cell_type": "code",
   "execution_count": null,
   "metadata": {},
   "outputs": [],
   "source": [
    "def PCA_feature_finder(x):\n",
    "    n_components = x\n",
    "\n",
    "    pca = PCA(n_components= n_components, whiten=True)\n",
    "\n",
    "    _ = pca.fit(train_vectors)\n",
    "\n",
    "    pca_train_vectors = pca.transform(train_vectors)\n",
    "    pca_test_vectors = pca.transform(test_vectors)\n",
    "    total_variance = np.sum(pca.explained_variance_ratio_)\n",
    "    clf = RandomForestClassifier(max_depth=15, random_state=0)\n",
    "    clf = clf.fit(pca_train_vectors, train_labels)\n",
    "    pred_labels = clf.predict(pca_test_vectors)\n",
    "    acc_score = accuracy_score(test_labels, pred_labels)\n",
    "    return acc_score, total_variance"
   ]
  },
  {
   "cell_type": "code",
   "execution_count": null,
   "metadata": {},
   "outputs": [],
   "source": [
    "accuracy_scores = []\n",
    "for x in range(1,12):\n",
    "    accuracy_scores.append(PCA_feature_finder(x)[0])\n",
    "dpi = 108  \n",
    "plt.rcParams['figure.dpi'] = dpi\n",
    "plt.figure(figsize = (8,4))\n",
    "plt.plot(range(1,12), accuracy_scores)\n",
    "plt.scatter(range(1,12), accuracy_scores, color = 'orange')\n",
    "plt.xlabel('number of components')\n",
    "plt.ylabel('accuracy score')"
   ]
  },
  {
   "cell_type": "markdown",
   "metadata": {},
   "source": [
    "# PCA with Decision Trees and SMOTE"
   ]
  },
  {
   "cell_type": "code",
   "execution_count": null,
   "metadata": {},
   "outputs": [],
   "source": [
    "min_max_scaler = preprocessing.MinMaxScaler()\n",
    "features_norm = pd.DataFrame(min_max_scaler.fit_transform(X_res), columns=X_res.columns, index=X_res.index)\n",
    "train_vectors, test_vectors, train_labels,test_labels = train_test_split(features_norm, PCA_Y,\n",
    "                               random_state = 3077)"
   ]
  },
  {
   "cell_type": "code",
   "execution_count": null,
   "metadata": {},
   "outputs": [],
   "source": [
    "pcs = (pca.components_[0]).tolist()\n",
    "feat_importances = pd.Series(pcs, index=X_res.columns)\n",
    "feat_importances.nlargest(25).plot(kind='barh',figsize=(5,5))"
   ]
  },
  {
   "cell_type": "code",
   "execution_count": null,
   "metadata": {},
   "outputs": [],
   "source": [
    "def PCA_feature_finder(x):\n",
    "    n_components = x\n",
    "\n",
    "    pca = PCA(n_components= n_components, whiten=True)\n",
    "\n",
    "    _ = pca.fit(train_vectors)\n",
    "\n",
    "    pca_train_vectors = pca.transform(train_vectors)\n",
    "    pca_test_vectors = pca.transform(test_vectors)\n",
    "    total_variance = np.sum(pca.explained_variance_ratio_)\n",
    "    clf = DecisionTreeClassifier(random_state=0)\n",
    "    clf = clf.fit(pca_train_vectors, train_labels)\n",
    "    pred_labels = clf.predict(pca_test_vectors)\n",
    "    acc_score = accuracy_score(test_labels, pred_labels)\n",
    "    return acc_score, total_variance"
   ]
  },
  {
   "cell_type": "code",
   "execution_count": null,
   "metadata": {},
   "outputs": [],
   "source": [
    "accuracy_scores = []\n",
    "for x in range(1,12):\n",
    "    accuracy_scores.append(PCA_feature_finder(x)[0])\n",
    "dpi = 108  \n",
    "plt.rcParams['figure.dpi'] = dpi\n",
    "plt.figure(figsize = (8,4))\n",
    "plt.plot(range(1,12), accuracy_scores)\n",
    "plt.scatter(range(1,12), accuracy_scores, color = 'orange')\n",
    "plt.xlabel('number of components')\n",
    "plt.ylabel('accuracy score')"
   ]
  }
 ],
 "metadata": {
  "kernelspec": {
   "display_name": "Python 3",
   "language": "python",
   "name": "python3"
  },
  "language_info": {
   "codemirror_mode": {
    "name": "ipython",
    "version": 3
   },
   "file_extension": ".py",
   "mimetype": "text/x-python",
   "name": "python",
   "nbconvert_exporter": "python",
   "pygments_lexer": "ipython3",
   "version": "3.8.5"
  }
 },
 "nbformat": 4,
 "nbformat_minor": 5
}
