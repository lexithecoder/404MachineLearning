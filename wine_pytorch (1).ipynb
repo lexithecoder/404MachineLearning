{
 "cells": [
  {
   "cell_type": "code",
   "execution_count": 1,
   "id": "c71e1f87",
   "metadata": {},
   "outputs": [],
   "source": [
    "import pandas as pd\n",
    "import numpy as np\n",
    "import torch\n",
    "from torch.utils.data import Dataset, TensorDataset, random_split, DataLoader\n",
    "import torch.nn as nn\n",
    "import torch.nn.functional as F\n",
    "import matplotlib.pyplot as plt\n"
   ]
  },
  {
   "cell_type": "code",
   "execution_count": 2,
   "id": "e089750e",
   "metadata": {},
   "outputs": [
    {
     "data": {
      "text/plain": [
       "(6497, 12)"
      ]
     },
     "execution_count": 2,
     "metadata": {},
     "output_type": "execute_result"
    }
   ],
   "source": [
    "white = pd.read_csv('winequality-white.csv',sep = ';')\n",
    "red = pd.read_csv('winequality-red.csv',sep = ';')\n",
    "wine = pd.concat([white, red], ignore_index=True, sort=False)\n",
    "wine.shape\n"
   ]
  },
  {
   "cell_type": "code",
   "execution_count": 27,
   "id": "b17b97e8",
   "metadata": {},
   "outputs": [],
   "source": [
    "input_cols=list(wine.columns)[:-1]\n",
    "output_cols = ['quality']"
   ]
  },
  {
   "cell_type": "code",
   "execution_count": 28,
   "id": "514126dc",
   "metadata": {},
   "outputs": [],
   "source": [
    "def dataframe_to_arrays(dataframe):\n",
    "    # Make a copy of the original dataframe\n",
    "    df = wine.copy(deep=True)\n",
    "    inputs_array = df[input_cols].to_numpy()\n",
    "    targets_array = df[output_cols].to_numpy()\n",
    "    return inputs_array, targets_array\n",
    "\n",
    "inputs_array, targets_array = dataframe_to_arrays(wine)\n"
   ]
  },
  {
   "cell_type": "code",
   "execution_count": 30,
   "id": "21f0bc41",
   "metadata": {},
   "outputs": [],
   "source": [
    "inputs = torch.from_numpy(inputs_array).type(torch.float)\n",
    "targets = torch.from_numpy(targets_array).type(torch.float)\n",
    "dataset = TensorDataset(inputs, targets)"
   ]
  },
  {
   "cell_type": "code",
   "execution_count": 31,
   "id": "ea431992",
   "metadata": {},
   "outputs": [],
   "source": [
    "train_ds, val_ds = random_split(dataset, [5198, 1299])\n",
    "batch_size=50\n",
    "train_loader = DataLoader(train_ds, batch_size, shuffle=True)\n",
    "val_loader = DataLoader(val_ds, batch_size)\n",
    "input_size = len(input_cols)\n",
    "output_size = len(output_cols)"
   ]
  },
  {
   "cell_type": "markdown",
   "id": "b7ac8eb0",
   "metadata": {},
   "source": [
    "nn.Linear applies a linear transformation to the input data, using adjusted weights and bias. Forward feeds the input of first layer to the second layer. The training and validation step both add a loss function from 1L_loss to get the Mean Absolute Loss between the model output and the target output. "
   ]
  },
  {
   "cell_type": "code",
   "execution_count": 20,
   "id": "43396d2e",
   "metadata": {},
   "outputs": [],
   "source": [
    "class WineQuality(nn.Module):\n",
    "    def __init__(self):\n",
    "        super().__init__()\n",
    "        self.linear = nn.Linear(input_size,output_size) \n",
    "        \n",
    "    def forward(self, xb): \n",
    "        out = self.linear(xb)                         \n",
    "        return out\n",
    "    \n",
    "    def training_step(self, batch):\n",
    "        inputs, targets = batch \n",
    "        out = self(inputs)          \n",
    "        # using L1 loss function that is Mean absolute error between output and target\n",
    "        loss = F.l1_loss(out,targets)\n",
    "        return loss\n",
    "    \n",
    "    def validation_step(self, batch):\n",
    "        inputs, targets = batch\n",
    "        out = self(inputs)\n",
    "        # using L1 loss function that is Mean absolute error between output and target\n",
    "        loss = F.l1_loss(out,targets)                              \n",
    "        return {'val_loss': loss.detach()}\n",
    "        \n",
    "    def validation_epoch_end(self, outputs):\n",
    "        batch_losses = [x['val_loss'] for x in outputs]\n",
    "        epoch_loss = torch.stack(batch_losses).mean()   # Combine losses\n",
    "        return {'val_loss': epoch_loss.item()}\n",
    "    \n",
    "    def epoch_end(self, epoch, result, num_epochs):\n",
    "        if (epoch+1) % 100 == 0 or epoch == num_epochs-1:\n",
    "            print(\"Epoch [{}], val_loss: {:.4f}\".format(epoch+1, result['val_loss']))"
   ]
  },
  {
   "cell_type": "code",
   "execution_count": 21,
   "id": "ea7cdef9",
   "metadata": {},
   "outputs": [],
   "source": [
    "model=WineQuality()\n",
    "\n",
    "def evaluate(model, val_loader):\n",
    "    outputs = [model.validation_step(batch) for batch in val_loader]\n",
    "    return model.validation_epoch_end(outputs)\n",
    "\n",
    "def fit(epochs, lr, model, train_loader, val_loader, opt_func=torch.optim.SGD):\n",
    "    history = []\n",
    "    optimizer = opt_func(model.parameters(), lr)\n",
    "    for epoch in range(epochs):\n",
    "        # Training \n",
    "        for batch in train_loader:\n",
    "            loss = model.training_step(batch)\n",
    "            loss.backward()\n",
    "            optimizer.step()\n",
    "            optimizer.zero_grad()\n",
    "        # Validation \n",
    "        result = evaluate(model, val_loader)\n",
    "        model.epoch_end(epoch, result, epochs)\n",
    "        history.append(result)\n",
    "    return history"
   ]
  },
  {
   "cell_type": "code",
   "execution_count": 22,
   "id": "0e3ef24e",
   "metadata": {},
   "outputs": [
    {
     "name": "stdout",
     "output_type": "stream",
     "text": [
      "Epoch [100], val_loss: 2.9461\n",
      "Epoch [200], val_loss: 2.3374\n",
      "Epoch [300], val_loss: 1.8395\n",
      "Epoch [400], val_loss: 1.4804\n",
      "Epoch [500], val_loss: 1.2376\n",
      "Epoch [600], val_loss: 1.0865\n",
      "Epoch [700], val_loss: 0.9853\n",
      "Epoch [800], val_loss: 0.9167\n",
      "Epoch [900], val_loss: 0.8703\n",
      "Epoch [1000], val_loss: 0.8416\n",
      "Epoch [1100], val_loss: 0.8212\n",
      "Epoch [1200], val_loss: 0.8052\n",
      "Epoch [1300], val_loss: 0.7932\n",
      "Epoch [1400], val_loss: 0.7837\n",
      "Epoch [1500], val_loss: 0.7768\n",
      "Epoch [1600], val_loss: 0.7700\n",
      "Epoch [1700], val_loss: 0.7642\n",
      "Epoch [1800], val_loss: 0.7594\n",
      "Epoch [1900], val_loss: 0.7546\n",
      "Epoch [2000], val_loss: 0.7506\n",
      "Epoch [2100], val_loss: 0.7467\n",
      "Epoch [2200], val_loss: 0.7430\n",
      "Epoch [2300], val_loss: 0.7391\n",
      "Epoch [2400], val_loss: 0.7358\n",
      "Epoch [2500], val_loss: 0.7329\n",
      "Epoch [2600], val_loss: 0.7296\n",
      "Epoch [2700], val_loss: 0.7259\n",
      "Epoch [2800], val_loss: 0.7231\n",
      "Epoch [2900], val_loss: 0.7202\n",
      "Epoch [3000], val_loss: 0.7176\n",
      "Epoch [3100], val_loss: 0.7146\n",
      "Epoch [3200], val_loss: 0.7121\n",
      "Epoch [3300], val_loss: 0.7090\n",
      "Epoch [3400], val_loss: 0.7063\n",
      "Epoch [3500], val_loss: 0.7036\n",
      "Epoch [3600], val_loss: 0.7012\n",
      "Epoch [3700], val_loss: 0.6989\n",
      "Epoch [3800], val_loss: 0.6965\n",
      "Epoch [3900], val_loss: 0.6946\n",
      "Epoch [4000], val_loss: 0.6921\n",
      "Epoch [4100], val_loss: 0.6898\n",
      "Epoch [4200], val_loss: 0.6880\n",
      "Epoch [4300], val_loss: 0.6854\n",
      "Epoch [4400], val_loss: 0.6833\n",
      "Epoch [4500], val_loss: 0.6812\n",
      "Epoch [4600], val_loss: 0.6793\n",
      "Epoch [4700], val_loss: 0.6775\n",
      "Epoch [4800], val_loss: 0.6755\n",
      "Epoch [4900], val_loss: 0.6737\n",
      "Epoch [5000], val_loss: 0.6720\n",
      "Epoch [5100], val_loss: 0.6704\n",
      "Epoch [5200], val_loss: 0.6688\n",
      "Epoch [5300], val_loss: 0.6670\n",
      "Epoch [5400], val_loss: 0.6655\n",
      "Epoch [5500], val_loss: 0.6641\n",
      "Epoch [5600], val_loss: 0.6627\n",
      "Epoch [5700], val_loss: 0.6612\n",
      "Epoch [5800], val_loss: 0.6597\n",
      "Epoch [5900], val_loss: 0.6582\n",
      "Epoch [6000], val_loss: 0.6570\n",
      "Epoch [6100], val_loss: 0.6558\n",
      "Epoch [6200], val_loss: 0.6545\n",
      "Epoch [6300], val_loss: 0.6535\n",
      "Epoch [6400], val_loss: 0.6525\n",
      "Epoch [6497], val_loss: 0.6509\n"
     ]
    }
   ],
   "source": [
    "epochs = 6497\n",
    "lr = 1e-6\n",
    "history5 = fit(epochs, lr, model, train_loader, val_loader)"
   ]
  },
  {
   "cell_type": "code",
   "execution_count": 23,
   "id": "7773d948",
   "metadata": {},
   "outputs": [
    {
     "data": {
      "text/plain": [
       "tensor(-0.0285)"
      ]
     },
     "execution_count": 23,
     "metadata": {},
     "output_type": "execute_result"
    }
   ],
   "source": [
    "error = []\n",
    "error_dict = {1.0:[],2.0:[],3.0:[],4.0:[],5.0:[],6.0:[],7.0:[],8.0:[],9.0:[]}\n",
    "for i,t in val_ds:\n",
    "    inputs = i.unsqueeze(0)\n",
    "    predictions = model(inputs)\n",
    "    pred = predictions[0].detach()\n",
    "    error.append(t-pred)\n",
    "    if t.item() in error_dict:\n",
    "        error_dict[t.item()].append(error)\n",
    "mean_error = torch.mean(torch.stack(error))\n",
    "mean_error"
   ]
  },
  {
   "cell_type": "code",
   "execution_count": null,
   "id": "dbc1a69e",
   "metadata": {},
   "outputs": [],
   "source": []
  },
  {
   "cell_type": "code",
   "execution_count": null,
   "id": "85991ac5",
   "metadata": {},
   "outputs": [],
   "source": []
  }
 ],
 "metadata": {
  "kernelspec": {
   "display_name": "Python 3 (ipykernel)",
   "language": "python",
   "name": "python3"
  },
  "language_info": {
   "codemirror_mode": {
    "name": "ipython",
    "version": 3
   },
   "file_extension": ".py",
   "mimetype": "text/x-python",
   "name": "python",
   "nbconvert_exporter": "python",
   "pygments_lexer": "ipython3",
   "version": "3.10.9"
  }
 },
 "nbformat": 4,
 "nbformat_minor": 5
}
